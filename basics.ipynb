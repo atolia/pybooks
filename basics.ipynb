{
 "cells": [
  {
   "cell_type": "code",
   "execution_count": null,
   "metadata": {},
   "outputs": [],
   "source": [
    "!pip install numpy scipy\n",
    "import numpy as np\n",
    "from collections import OrderedDict\n",
    "from scipy.spatial import distance as dist\n",
    "\n",
    "rects=[[189.42716266,  27.24091831, 207.80059182,  61.64119437, 309.],\n",
    "       [162.73882115,  37.55935711, 184.11430641,  85.98845161, 287. ]]\n"
   ]
  },
  {
   "cell_type": "code",
   "execution_count": null,
   "metadata": {},
   "outputs": [],
   "source": [
    "inputCentroids = np.zeros((len(rects), 2), dtype=\"int\")\n",
    "\n",
    "for (i, (startX, startY, endX, endY, id)) in enumerate(rects):\n",
    "    # use the bounding box coordinates to derive the centroid\n",
    "    cX = int((startX + endX) / 2.0)\n",
    "    cY = int((startY + endY) / 2.0)\n",
    "    inputCentroids[i] = (cX, cY)\n",
    "inputCentroids\n",
    "\n",
    "objects = OrderedDict()\n",
    "for i in range(0, len(inputCentroids)):\n",
    "    objects[i] = inputCentroids[i]\n",
    "objects"
   ]
  },
  {
   "cell_type": "code",
   "execution_count": null,
   "metadata": {},
   "outputs": [],
   "source": [
    "from scipy.spatial import distance as dist\n",
    "\n",
    "np.array(objectCentroids)"
   ]
  },
  {
   "cell_type": "code",
   "execution_count": null,
   "metadata": {},
   "outputs": [],
   "source": [
    "objectIDs = list(objects.keys())\n",
    "objectCentroids = list(objects.values())\n",
    "objectIDs"
   ]
  },
  {
   "cell_type": "code",
   "execution_count": null,
   "metadata": {},
   "outputs": [],
   "source": [
    "D = dist.cdist(np.array(objectCentroids), inputCentroids)\n",
    "D"
   ]
  },
  {
   "cell_type": "code",
   "execution_count": null,
   "metadata": {},
   "outputs": [],
   "source": []
  }
 ],
 "metadata": {
  "kernelspec": {
   "display_name": "Python 3",
   "language": "python",
   "name": "python3"
  },
  "language_info": {
   "codemirror_mode": {
    "name": "ipython",
    "version": 3
   },
   "file_extension": ".py",
   "mimetype": "text/x-python",
   "name": "python",
   "nbconvert_exporter": "python",
   "pygments_lexer": "ipython3",
   "version": "3.7.6"
  }
 },
 "nbformat": 4,
 "nbformat_minor": 4
}
